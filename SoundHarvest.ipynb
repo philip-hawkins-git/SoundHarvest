video_url = "" #@param {type:"string"}

try:
    import yt_dlp as youtube_dl
except ModuleNotFoundError:
    !pip install yt-dlp
    from IPython import display
    display.clear_output()
    import yt_dlp as youtube_dl

def download_audio(url):
    options = {
        'format': 'bestaudio/best',
        'extractaudio': True,
        'audioformat': 'mp3',
        'outtmpl': '%(title)s-%(id)s.%(ext)s',
        'nocheckcertificate': True,
    }

    with youtube_dl.YoutubeDL(options) as ydl:
        info_dict = ydl.extract_info(url, download=True)
        audio_file = ydl.prepare_filename(info_dict)

    print(f"Audio downloaded as: {audio_file}")

    # Convert the downloaded audio to mp3 format
    mp3_file = audio_file.replace('.webm', '.mp3')
    import subprocess
    subprocess.run(['ffmpeg', '-i', audio_file, mp3_file])
    print(f"Audio saved as: {mp3_file}")

    # Remove the original webm file
    import os
    os.remove(audio_file)

download_audio(video_url)
